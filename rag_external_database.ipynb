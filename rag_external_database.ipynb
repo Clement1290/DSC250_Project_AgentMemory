{
 "cells": [
  {
   "cell_type": "markdown",
   "id": "8803caee-d151-4e39-860a-9c5b54a03349",
   "metadata": {},
   "source": [
    "Fake therapist and schedule data"
   ]
  },
  {
   "cell_type": "code",
   "execution_count": 1,
   "id": "c6b445df-8e07-4f46-948c-3257c5cffd94",
   "metadata": {},
   "outputs": [],
   "source": [
    "therapists = [\n",
    "    {\n",
    "        \"name\": \"Dr. Jane Smith\",\n",
    "        \"specialization\": \"anxiety, academic stress\",\n",
    "        \"availability\": \"Mondays and Wednesdays, 2-4 PM\",\n",
    "        \"contact\": \"jsmith@email.com, 555-1234\",\n",
    "        \"description\": \"Dr. Jane Smith specializes in anxiety and academic stress. Available Mondays and Wednesdays, 2-4 PM. Contact: jsmith@email.com, 555-1234.\"\n",
    "    },\n",
    "    {\n",
    "        \"name\": \"Dr. John Doe\",\n",
    "        \"specialization\": \"depression, relationships\",\n",
    "        \"availability\": \"Tuesdays and Thursdays, 10 AM - 12 PM\",\n",
    "        \"contact\": \"jdoe@email.com, 555-5678\",\n",
    "        \"description\": \"Dr. John Doe specializes in depression and relationships. Available Tuesdays and Thursdays, 10 AM - 12 PM. Contact: jdoe@email.com, 555-5678.\"\n",
    "    },\n",
    "    {\n",
    "        \"name\": \"Dr. Emily Brown\",\n",
    "        \"specialization\": \"stress management, self-esteem\",\n",
    "        \"availability\": \"Fridays, 1-3 PM\",\n",
    "        \"contact\": \"ebrown@email.com, 555-9012\",\n",
    "        \"description\": \"Dr. Emily Brown specializes in stress management and self-esteem. Available Fridays, 1-3 PM. Contact: ebrown@email.com, 555-9012.\"\n",
    "    }\n",
    "]\n",
    "\n",
    "classes = [\n",
    "    {\n",
    "        \"class_name\": \"Math 101\",\n",
    "        \"instructor\": \"Prof. Johnson\",\n",
    "        \"schedule\": \"Tuesdays and Thursdays, 10-11:30 AM, Room 202\",\n",
    "        \"exam_dates\": \"May 15\",\n",
    "        \"assignments\": \"Assignment 1 due May 10\",\n",
    "        \"description\": \"Math 101 with Prof. Johnson, Tuesdays and Thursdays, 10-11:30 AM, Room 202. Exam on May 15, Assignment 1 due May 10.\"\n",
    "    },\n",
    "    {\n",
    "        \"class_name\": \"History 202\",\n",
    "        \"instructor\": \"Prof. Lee\",\n",
    "        \"schedule\": \"Mondays and Wednesdays, 1-2:30 PM, Room 305\",\n",
    "        \"exam_dates\": \"May 12\",\n",
    "        \"assignments\": \"Essay due May 8\",\n",
    "        \"description\": \"History 202 with Prof. Lee, Mondays and Wednesdays, 1-2:30 PM, Room 305. Exam on May 12, Essay due May 8.\"\n",
    "    },\n",
    "    {\n",
    "        \"class_name\": \"Biology 150\",\n",
    "        \"instructor\": \"Prof. Carter\",\n",
    "        \"schedule\": \"Wednesdays and Fridays, 9-10:30 AM, Room 101\",\n",
    "        \"exam_dates\": \"May 10\",\n",
    "        \"assignments\": \"Lab report due May 5\",\n",
    "        \"description\": \"Biology 150 with Prof. Carter, Wednesdays and Fridays, 9-10:30 AM, Room 101. Exam on May 10, Lab report due May 5.\"\n",
    "    }\n",
    "]"
   ]
  },
  {
   "cell_type": "markdown",
   "id": "0ce4fa4f-1d95-43b8-93da-c5e83d764696",
   "metadata": {},
   "source": [
    "Set up"
   ]
  },
  {
   "cell_type": "code",
   "execution_count": null,
   "id": "c018bf53-3cf5-4da8-a5eb-44a5008c2e6b",
   "metadata": {},
   "outputs": [],
   "source": [
    "!pip install openai faiss-cpu numpy\n"
   ]
  },
  {
   "cell_type": "code",
   "execution_count": 3,
   "id": "f7f8c72b-9e9b-4ed9-b8ca-2ccc2e9980fe",
   "metadata": {},
   "outputs": [],
   "source": [
    "import openai\n",
    "import faiss\n",
    "import numpy as np\n",
    "\n",
    "openai.api_key = \"\"\n"
   ]
  },
  {
   "cell_type": "markdown",
   "id": "68765e72-ae8c-43c7-b570-196889cd1a4f",
   "metadata": {},
   "source": [
    "Embedding and FAISS"
   ]
  },
  {
   "cell_type": "code",
   "execution_count": 4,
   "id": "29d943fe-3c77-4619-82b8-073dad59e681",
   "metadata": {},
   "outputs": [],
   "source": [
    "def embed_documents(docs):\n",
    "    response = openai.embeddings.create(input=docs, model=\"text-embedding-ada-002\")\n",
    "    return np.array([r.embedding for r in response.data], dtype='float32')\n",
    "\n",
    "# Embed only descriptions\n",
    "therapist_descriptions = [t[\"description\"] for t in therapists]\n",
    "therapist_embeddings = embed_documents(therapist_descriptions)\n",
    "class_descriptions = [c[\"description\"] for c in classes]\n",
    "class_embeddings = embed_documents(class_descriptions)\n",
    "\n",
    "# FAISS\n",
    "embedding_dim = therapist_embeddings.shape[1]\n",
    "therapist_index = faiss.IndexFlatL2(embedding_dim)\n",
    "therapist_index.add(therapist_embeddings)\n",
    "class_index = faiss.IndexFlatL2(embedding_dim)\n",
    "class_index.add(class_embeddings)\n",
    "\n"
   ]
  },
  {
   "cell_type": "markdown",
   "id": "6ad48867-dc02-46c4-bd03-12001a5ce23e",
   "metadata": {},
   "source": [
    "Retrieval "
   ]
  },
  {
   "cell_type": "code",
   "execution_count": 5,
   "id": "4a653d3a-4ec7-4860-883e-78288433e9d1",
   "metadata": {},
   "outputs": [],
   "source": [
    "def get_relevant_therapist(query, k=1):\n",
    "    query_embedding = embed_documents([query])\n",
    "    distances, indices = therapist_index.search(query_embedding, k)\n",
    "    return [therapists[i] for i in indices[0]]\n",
    "\n",
    "def get_relevant_class(query, k=1):\n",
    "    query_embedding = embed_documents([query])\n",
    "    distances, indices = class_index.search(query_embedding, k)\n",
    "    return [classes[i] for i in indices[0]]\n"
   ]
  },
  {
   "cell_type": "markdown",
   "id": "91c6193a-8415-41c0-8e6f-3929d270ed2d",
   "metadata": {},
   "source": [
    "Demo"
   ]
  },
  {
   "cell_type": "code",
   "execution_count": 6,
   "id": "d8eb4762-f984-44ca-b226-bf1bef918f54",
   "metadata": {},
   "outputs": [
    {
     "name": "stdout",
     "output_type": "stream",
     "text": [
      "Relevant Therapist: Dr. John Doe\n",
      "Therapist Details: Dr. John Doe specializes in depression and relationships. Available Tuesdays and Thursdays, 10 AM - 12 PM. Contact: jdoe@email.com, 555-5678.\n",
      "Relevant Class: History 202\n",
      "Class Details: History 202 with Prof. Lee, Mondays and Wednesdays, 1-2:30 PM, Room 305. Exam on May 12, Essay due May 8.\n"
     ]
    }
   ],
   "source": [
    "query = \"I am feeling depression about next week's history finals.\"\n",
    "relevant_therapist = get_relevant_therapist(query)\n",
    "relevant_class = get_relevant_class(query)\n",
    "\n",
    "print(\"Relevant Therapist:\", relevant_therapist[0][\"name\"])\n",
    "print(\"Therapist Details:\", relevant_therapist[0][\"description\"])\n",
    "print(\"Relevant Class:\", relevant_class[0][\"class_name\"])\n",
    "print(\"Class Details:\", relevant_class[0][\"description\"])"
   ]
  },
  {
   "cell_type": "code",
   "execution_count": null,
   "id": "35ac04f9-ed95-4422-8b31-dfe1e42e0bdf",
   "metadata": {},
   "outputs": [],
   "source": []
  }
 ],
 "metadata": {
  "kernelspec": {
   "display_name": "Python 3 (ipykernel)",
   "language": "python",
   "name": "python3"
  },
  "language_info": {
   "codemirror_mode": {
    "name": "ipython",
    "version": 3
   },
   "file_extension": ".py",
   "mimetype": "text/x-python",
   "name": "python",
   "nbconvert_exporter": "python",
   "pygments_lexer": "ipython3",
   "version": "3.12.7"
  }
 },
 "nbformat": 4,
 "nbformat_minor": 5
}
