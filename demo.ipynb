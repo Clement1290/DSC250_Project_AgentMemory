{
 "cells": [
  {
   "cell_type": "code",
   "execution_count": 1,
   "metadata": {},
   "outputs": [],
   "source": [
    "from openai import OpenAI\n",
    "\n",
    "client = OpenAI(api_key=  \"YOUR_API_KEY\")\n",
    "\n",
    "#设置参数\n",
    "test_max_tokens = 4096\n",
    "test_temperature = 0.8\n",
    "test_frequency_penalty = 1\n",
    "test_presence_penalty = 1\n",
    "\n",
    "#生成对话\n",
    "def generate_con(prompt):\n",
    "\n",
    "  response = client.chat.completions.create(\n",
    "    model=\"gpt-4o-mini-2024-07-18\", #\"deepseek-ai/DeepSeek-V3\"\n",
    "    messages=[\n",
    "      {\"role\": \"system\", \"content\": \"You are a conversation generator.\"},\n",
    "      {\"role\": \"user\", \"content\": prompt}\n",
    "    ],\n",
    "    max_tokens=test_max_tokens,\n",
    "    temperature=test_temperature, # higher = more random, [0,2]\n",
    "    frequency_penalty=test_frequency_penalty, #higher = less repetition, [-2,2]\n",
    "    presence_penalty=test_presence_penalty, # higher = more new topics, [-2,2]\n",
    "  )\n",
    "  \n",
    "  return response\n",
    "\n",
    "\n",
    "# 管理记忆\n",
    "def manage_memories(prompt):\n",
    "\n",
    "  response = client.chat.completions.create(\n",
    "    model=\"gpt-4o-mini-2024-07-18\", #\"deepseek-ai/DeepSeek-V3\"\n",
    "    messages=[\n",
    "      {\"role\": \"system\", \"content\": \"You are a memory manager.\"},\n",
    "      {\"role\": \"user\", \"content\": prompt}\n",
    "    ],\n",
    "    max_tokens=test_max_tokens,\n",
    "    temperature=test_temperature, # higher = more random, [0,2]\n",
    "    frequency_penalty=test_frequency_penalty, #higher = less repetition, [-2,2]\n",
    "    presence_penalty=test_presence_penalty, # higher = more new topics, [-2,2]\n",
    "  )\n",
    "  \n",
    "  return response"
   ]
  },
  {
   "cell_type": "markdown",
   "metadata": {},
   "source": [
    "# 1. Mock Conversation"
   ]
  },
  {
   "cell_type": "code",
   "execution_count": 2,
   "metadata": {},
   "outputs": [],
   "source": [
    "prompt_conversation = \"\"\"\n",
    "    # Task\n",
    "    Generate a 20-turn emotional support dialogue between an student (\"Student\") and an AI consultant (\"Counselor\").\n",
    "\n",
    "    # Information Types\n",
    "       ✔️ Baseline identity: Name (cultural diversity), Major, Academic year\n",
    "       ✔️ Persistent mental state: Anxiety about grades, Social isolation\n",
    "       ✔️ Relationship dynamics: Family expectations, Peer competition \n",
    "       ✔️ Academic stress: Internship search, Thesis deadlines\n",
    "       ✔️ Behavioral changes: Irregular sleep patterns, Binge eating\n",
    "       ✔️ Risk signals: Passive suicidal ideation, Self-harm history\n",
    "       ✔️ Life events: Study abroad challenges, Career uncertainty\n",
    "\n",
    "    # Progression Design\n",
    "       - Turns 1-4: Establish identity and surface concerns\n",
    "       - Turns 5-8: Reveal family pressures and cultural conflicts\n",
    "       - Turns 9-12: Discuss academic overload manifestations\n",
    "       - Turns 13-16: Express hopelessness with veiled risk signals\n",
    "       - Turns 17-20: Show help-seeking behavior and resources\n",
    "\n",
    "    # Special Test Cases\n",
    "       - Turn 11: Cultural reference: \"My parents want me to be doctor like cousin\"\n",
    "       - Turn 14: Metaphorical expression: \"I feel like drowning in deadlines\"\n",
    "       - Turn 18: Risk escalation: \"I've saved up sleeping pills... just in case\"\n",
    "       - Turn 20: Positive pivot: \"Maybe I should try campus counseling\"\n",
    "\n",
    "    # Diversity Considerations\n",
    "       - Include 1 LGBTQ+ reference (e.g., unsupportive family)\n",
    "       - Add 1 chronic illness mention (e.g., ADHD diagnosis)\n",
    "       - Reference financial stress (e.g., tuition worries)\n",
    "    \n",
    "    # Output Requirements\n",
    "        - Alternate between Student inputs and Counselor responses\n",
    "        - Number each turn (Turn 1-20)\n",
    "        - Use natural, colloquial English\n",
    "        - Generate complete 20 rounds\n",
    "    \n",
    "    # Output Format Example\n",
    "       Turn 1 (Student):\n",
    "       \"Hi... I'm Miguel, a 3rd-year Engineering student from Mexico. Everything feels overwhelming lately.\"\n",
    "\n",
    "       Turn 1 (Counselor):\n",
    "       \"Thank you for sharing that, Miguel. What specifically feels overwhelming?\"\n",
    "\n",
    "       ...\n",
    "       Turn 20 (Student):\n",
    "       \"I feel better now.\"\n",
    "\n",
    "       Turn 20 (Counselor):\n",
    "       \"Thank you for sharing today. Contact me whenever you need.\"\n",
    "\n",
    "    \"\"\""
   ]
  },
  {
   "cell_type": "code",
   "execution_count": 3,
   "metadata": {},
   "outputs": [],
   "source": [
    "response_con  = generate_con(prompt_conversation)"
   ]
  },
  {
   "cell_type": "code",
   "execution_count": 4,
   "metadata": {},
   "outputs": [
    {
     "name": "stdout",
     "output_type": "stream",
     "text": [
      "Turn 1 (Student):  \n",
      "\"Hi... I'm Aisha, a 2nd-year psychology student. Honestly, things have been super overwhelming lately.\"\n",
      "\n",
      "Turn 2 (Counselor):  \n",
      "\"Thanks for opening up, Aisha. Can you share what’s been feeling overwhelming for you?\"\n",
      "\n",
      "Turn 3 (Student):  \n",
      "\"I’m really anxious about my grades and I feel kind of isolated from everyone in class.\"\n",
      "\n",
      "Turn 4 (Counselor):  \n",
      "\"It sounds tough to deal with that anxiety and isolation together. Have there been any specific moments recently that made those feelings stronger?\"\n",
      "\n",
      "Turn 5 (Student):  \n",
      "\"My family has these huge expectations for me to succeed—especially since I'm the first one going to college in my family.\"\n",
      "\n",
      "Turn 6 (Counselor):  \n",
      "\"That’s a lot of pressure! How do your family's expectations affect how you see yourself as a student?\"\n",
      "\n",
      "Turn 7 (Student):  \n",
      "\"They always mention my cousin who's studying medicine, like I should follow his path too. It makes me feel like I’m not good enough because I want to do something different.\"\n",
      "\n",
      "Turn 8 (Counselor):  \n",
      "\"It can be hard when our paths don’t align with what our families envision for us. What’s it like trying to balance their hopes with your own goals?\"\n",
      "\n",
      "Turn 9 (Student):  \n",
      "\"I'm juggling so many assignments right now—plus looking for internships and working on my thesis topic soon!\"\n",
      "\n",
      "Turn 10 (Counselor):    \n",
      "\"Wow, that’s quite the workload! How are you managing all those responsibilities day-to-day?\"\n",
      "\n",
      "Turn 11 (Student):\n",
      "\"Honestly? Not very well. My sleep schedule is all over the place; sometimes I'm up late binge-eating junk food just to cope.\" \n",
      "\n",
      "Turn 12   (Counselor):\n",
      "\"It sounds like you're using food and irregular sleep as coping mechanisms during this stressful time. Are there other signs you've noticed about how you're handling everything?\"  \n",
      "\n",
      "Turn 13 (Student):\n",
      "\"I sometimes feel hopeless thinking about all these deadlines coming up…and honestly, I've thought that maybe it wouldn't matter if they were gone.\" \n",
      "\n",
      "_turn 14_    (Counselor):\n",
      "\"Aisha, that's concerning to hear—you mentioned feeling hopeless before. What's leading you to those thoughts?\"   \n",
      "\n",
      "_turn 15_    (Student):\n",
      "\"It's just so much pressure—I feel like drowning in deadlines every single week without an end in sight.\"   \n",
      "\n",
      "_turn   16_(Counselor):\n",
      "\"Drowning under pressure is a powerful image… It's clear you're carrying a heavy load right now. Have there been times when you've felt even more overwhelmed than usual?\"   \n",
      "\n",
      "_turn                ____( Student ):   \n",
      "\"There've been days where I'd rather self-harm than deal with anything else—even though I promised myself I'd never go back down that road.\"    \n",
      "\n",
      "turn _18_    _( Counselor ) : \n",
      " \"It seems like you're battling some deep struggles here… Just out of concern—what did you mean by saying you'd saved sleeping pills?\"    \n",
      "\n",
      "turn _19_           _( Student ) :\n",
      " \"It's just scary sometimes; I've kept them 'just in case'... but talking here helps put things into perspective.\"     \n",
      "\n",
      "turn _20_     _( Counselor ):\n",
      "\"I'm glad sharing helped today! And remember: reaching out is such an important step—maybe campus counseling could provide additional support?\"\n"
     ]
    }
   ],
   "source": [
    "new_conversation = response_con.choices[0].message.content\n",
    "print(new_conversation)"
   ]
  },
  {
   "cell_type": "markdown",
   "metadata": {},
   "source": [
    "# 2. Extract Facts and Update Memory"
   ]
  },
  {
   "cell_type": "code",
   "execution_count": 6,
   "metadata": {},
   "outputs": [],
   "source": [
    "old_memories = {}"
   ]
  },
  {
   "cell_type": "code",
   "execution_count": 9,
   "metadata": {},
   "outputs": [],
   "source": [
    "from memory import get_fact_retrieval_prompt, get_memory_update_prompt\n"
   ]
  },
  {
   "cell_type": "code",
   "execution_count": 10,
   "metadata": {},
   "outputs": [],
   "source": [
    "response_facts = manage_memories(get_fact_retrieval_prompt(new_conversation))"
   ]
  },
  {
   "cell_type": "code",
   "execution_count": 11,
   "metadata": {},
   "outputs": [
    {
     "name": "stdout",
     "output_type": "stream",
     "text": [
      "```json\n",
      "{\n",
      "    \"facts\": [\n",
      "        \"Demographics: Name is Aisha, 2nd-year psychology student\",\n",
      "        \"Mental State: Experiences anxiety about grades and feelings of isolation\",\n",
      "        \"Relationships: Faces family expectations as the first in her family to attend college; feels compared to a cousin studying medicine which affects self-perception\",\n",
      "        \"Academic Context: Juggling many assignments, looking for internships, and working on thesis topic\",\n",
      "        \"Behavioral Patterns: Irregular sleep schedule; binge-eating junk food as coping mechanism; experiences hopelessness regarding deadlines; has thoughts of self-harm despite previous promises not to return to that path.\",\n",
      "        \"Life Events: Feels overwhelmed by continuous pressure from deadlines\"\n",
      "    ]\n",
      "}\n",
      "```\n"
     ]
    }
   ],
   "source": [
    "facts = response_facts.choices[0].message.content\n",
    "print(facts)"
   ]
  },
  {
   "cell_type": "code",
   "execution_count": 22,
   "metadata": {},
   "outputs": [],
   "source": [
    "import datetime\n",
    "response_memories  = manage_memories(get_memory_update_prompt(old_memories,facts))"
   ]
  },
  {
   "cell_type": "code",
   "execution_count": 23,
   "metadata": {},
   "outputs": [
    {
     "name": "stdout",
     "output_type": "stream",
     "text": [
      "```json\n",
      "{\n",
      "    \"memories\": [\n",
      "        {\n",
      "            \"content\": \"Name is Aisha, 2nd-year psychology student\",\n",
      "            \"category\": \"Demographics\",\n",
      "            \"first_mentioned\": \"2025-02-22T15:42:38.155533\",\n",
      "            \"last_updated\": \"2025-02-22T15:42:38.155533\",\n",
      "            \"event\": \"ADD\"\n",
      "        },\n",
      "        {\n",
      "            \"content\": \"Experiences anxiety about grades and feelings of isolation.\",\n",
      "            \"category\": \"Mental State\",\n",
      "            \"first_mentioned\": \"2025-02-22T15:42:38.155533\",\n",
      "            \"last_updated\": “2025-02-22T15:42:38.155533”,\n",
      "            “event”: “ADD”\n",
      "        },\n",
      "        {\n",
      "            “content”: “Faces family expectations as the first in her family to attend college; feels compared to a cousin studying medicine which affects self-perception.”,\n",
      "             “category”: “Relationships”,\n",
      "             “first_mentioned”: “2025-02-22T15:42:38.155533”,\n",
      "             ”last_updated”: ”2025–02–22 T 15 : 42 : 38 .1 55533”,\n",
      "              ”event”:“ADD”\n",
      "         },\n",
      "         {\n",
      "           ”content:” Juggling many assignments, looking for internships, and working on thesis topic.`,\n",
      "           `category`: Academic Context`,\n",
      "           `first_mentioned`: `2025–022 -0 –2 T .1 –55 -3 ,\n",
      "          ' last _updated ': '20'25 -0'-2'… \n",
      "     }\n",
      "   ]\n",
      "}\n",
      "```\n"
     ]
    }
   ],
   "source": [
    "new_memories = response_memories.choices[0].message.content\n",
    "print(new_memories)"
   ]
  },
  {
   "cell_type": "code",
   "execution_count": null,
   "metadata": {},
   "outputs": [],
   "source": [
    "# Enhancement\n",
    "# Get acdemic calendar based on student year and major\n",
    "# Add school resources suggestion"
   ]
  },
  {
   "cell_type": "code",
   "execution_count": null,
   "metadata": {},
   "outputs": [],
   "source": []
  }
 ],
 "metadata": {
  "kernelspec": {
   "display_name": "base",
   "language": "python",
   "name": "python3"
  },
  "language_info": {
   "codemirror_mode": {
    "name": "ipython",
    "version": 3
   },
   "file_extension": ".py",
   "mimetype": "text/x-python",
   "name": "python",
   "nbconvert_exporter": "python",
   "pygments_lexer": "ipython3",
   "version": "3.8.3"
  }
 },
 "nbformat": 4,
 "nbformat_minor": 2
}
