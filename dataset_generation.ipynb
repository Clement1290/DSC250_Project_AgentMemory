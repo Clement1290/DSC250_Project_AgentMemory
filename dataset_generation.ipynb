{
 "cells": [
  {
   "cell_type": "code",
   "execution_count": null,
   "metadata": {},
   "outputs": [],
   "source": [
    "# Note: this notebook is for comparing different setting's generation quality\n",
    "#       and is not used for large scale generation.\n"
   ]
  },
  {
   "cell_type": "code",
   "execution_count": 4,
   "metadata": {},
   "outputs": [],
   "source": [
    "#force reload import\n",
    "%load_ext autoreload\n",
    "%autoreload 2\n",
    "\n",
    "from lm_backend import OllamaAgent\n",
    "from random import sample\n",
    "agent = OllamaAgent()"
   ]
  },
  {
   "cell_type": "code",
   "execution_count": 6,
   "metadata": {},
   "outputs": [
    {
     "name": "stdout",
     "output_type": "stream",
     "text": [
      "conversation1\n",
      "I’m really worried about you lately. You’ve been so down in spirits, and I don’t know what’s wrong. Maybe we could talk more often now, right?\n",
      "conversation2\n",
      "Caitlin, I appreciate your concern. Sometimes my mind gets so busy with work that I forget to check back on how you’re feeling. Let’s make it a priority to have at least one chat every week.\n",
      "conversation1\n",
      "That sounds perfect. Knowing you care makes me feel less alone when things get tough. It’s good to know I’m not the only person who needs support sometimes.\n",
      "conversation2\n",
      "Absolutely, and I hope that I can be there for you during these times too. Let’s schedule our chats around your day so it won’t disrupt yours.\n",
      "conversation1\n",
      "That works well with my routine. Can we start this week? I’ve missed hearing about what’s happening in your world as much as you’ve missed talking to me.\n",
      "conversation2\n",
      "Let’s do that. Starting next week is fine for me. I’m looking forward to our conversations again.\n",
      "conversation1\n",
      "Me too, thank you so much for being here for me like this. Your support means a lot.\n",
      "conversation2\n",
      "You’re very important to me, and I feel the same way. Let’s make sure we keep these chats going strong.\n",
      "conversation1\n",
      "I’ll send you an email with our new schedule tomorrow.\n",
      "conversation2\n",
      "Sure thing, I’m ready whenever you are.\n",
      "conversation1\n",
      "Just checking in today. Things have been a bit hectic at work lately but I’ve had good conversations with colleagues too. It’s nice to keep things balanced somehow.\n",
      "conversation2\n",
      "That sounds like it could be a challenge sometimes. Is there anything specific I can help with, maybe related to balancing your personal life and career?\n",
      "conversation1\n",
      "No worries, everything is okay for now. Maybe next time you could share something about how work has affected your mood or schedule? That might help us both better.\n",
      "conversation2\n",
      "I will keep that in mind. Is there anything specific I should look out for with my support coming from you?\n",
      "conversation1\n",
      "Honestly, if you notice me being unusually quiet or stressed without an obvious reason, it would mean a lot to know and we can address any concerns then.\n",
      "conversation2\n",
      "Understood. If you have these feelings again, please let me know so that we can talk through them together. I’m here for whatever might be going on in your life.\n",
      "conversation1\n",
      "Thank you, Robin. I feel really lucky to have a friend who listens and cares like this. Let’s keep in touch as usual, okay?\n",
      "conversation2\n",
      "Absolutely, Caitlin. Here’s my number. We’ll stay connected and take care of each other during good times and challenging ones.\n",
      "conversation1\n",
      "I will, thanks again for everything.\n",
      "conversation2\n",
      "You’re welcome. Take care now.\n",
      "conversation1\n",
      "Will do, see you next week!\n",
      "conversation2\n",
      "See you then, Caitlin. Have a great week ahead!\n"
     ]
    }
   ],
   "source": [
    "# Single round\n",
    "\n",
    "prompt = '''Please generate a 20-round dialogue with the following requirements:\n",
    "1. The conversation should involve emotional care between both parties.\n",
    "2. The topic is related to {topic}\n",
    "3. The final round\\'s question must be closely related to the initial conversation, and the response should specifically reference details from the beginning.\n",
    "Return only the formatted dialogue without additional explanations. \n",
    "The format should be one line for one conversation: \n",
    "\n",
    "conversation1\n",
    "conversation2 \n",
    "...\n",
    "\n",
    "No other explanation!\n",
    "'''\n",
    "topic_list = [\"work\",'family','school','relationship','hobbies']\n",
    "\n",
    "agent.reset()\n",
    "print(agent.query(prompt.format(topic=sample(topic_list,1))))\n"
   ]
  },
  {
   "cell_type": "code",
   "execution_count": null,
   "metadata": {},
   "outputs": [],
   "source": []
  }
 ],
 "metadata": {
  "kernelspec": {
   "display_name": "ml",
   "language": "python",
   "name": "python3"
  },
  "language_info": {
   "codemirror_mode": {
    "name": "ipython",
    "version": 3
   },
   "file_extension": ".py",
   "mimetype": "text/x-python",
   "name": "python",
   "nbconvert_exporter": "python",
   "pygments_lexer": "ipython3",
   "version": "3.9.18"
  }
 },
 "nbformat": 4,
 "nbformat_minor": 2
}
